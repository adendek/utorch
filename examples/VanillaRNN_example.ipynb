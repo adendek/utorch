{
 "cells": [
  {
   "cell_type": "markdown",
   "id": "f73fad4b-3e60-43a8-a559-a6d3e6968078",
   "metadata": {},
   "source": [
    "# Recurrent neural net examples\n",
    "\n",
    "This notebook visualize the usage of Vanilla RNN implemented in utorch. \n",
    "It is based on pytorch [tutorial](https://pytorch.org/tutorials/intermediate/char_rnn_classification_tutorial.html), at least it use the same dataset.   \n",
    "The goal of this exercises is to build character level model. This means that the model processes one char at the time (loop over all chars) to predict country of orinig of the input name. \n",
    "\n",
    "\n",
    "The model seems to work, however it is very hard to train due to the vanishing gradient problem. \n",
    "## I am not happy with the outcome, we will see if the LSTM can do better. "
   ]
  },
  {
   "cell_type": "code",
   "execution_count": 1,
   "id": "b90bd0c6-5afc-43fb-a19f-f6bfc5eb982f",
   "metadata": {},
   "outputs": [],
   "source": [
    "import pandas as pd\n",
    "import numpy as np\n",
    "import math\n",
    "import matplotlib.pyplot as plt\n",
    "import gc\n",
    "from random import sample"
   ]
  },
  {
   "cell_type": "code",
   "execution_count": 2,
   "id": "028ee804-1235-4d63-8c01-739b7ac57651",
   "metadata": {},
   "outputs": [],
   "source": [
    "import utorch\n",
    "import utorch.nets as nets\n",
    "import utorch.simplegrad as sg"
   ]
  },
  {
   "cell_type": "code",
   "execution_count": 3,
   "id": "9e415bca-72d0-46a0-93b5-584f63441ca6",
   "metadata": {},
   "outputs": [],
   "source": [
    "import unicodedata\n",
    "import string\n",
    "import glob\n",
    "from pathlib import Path"
   ]
  },
  {
   "cell_type": "code",
   "execution_count": 4,
   "id": "8efa4903-d5bb-4928-944e-885b981c69e3",
   "metadata": {},
   "outputs": [],
   "source": [
    "all_letters = string.ascii_letters\n",
    "n_letters = len(all_letters)\n"
   ]
  },
  {
   "cell_type": "code",
   "execution_count": 5,
   "id": "473efe93-5fe7-42e4-a88a-cf5b3d66d174",
   "metadata": {},
   "outputs": [],
   "source": [
    "def unicodeToAscii(s):\n",
    "    return ''.join(\n",
    "        c for c in unicodedata.normalize('NFD', s)\n",
    "        if unicodedata.category(c) != 'Mn'\n",
    "        and c in all_letters\n",
    "    )"
   ]
  },
  {
   "cell_type": "code",
   "execution_count": 6,
   "id": "2281f4e6-6691-425c-93c4-aaf129fece03",
   "metadata": {},
   "outputs": [],
   "source": [
    "raw_data = {}\n",
    "\n",
    "def readLines(filename):\n",
    "    lines = open(filename, encoding='utf-8').read().strip().split('\\n')\n",
    "    return [unicodeToAscii(line) for line in lines]\n",
    "\n",
    "for filename in glob.glob('data/names/*.txt'):\n",
    "    category = Path(filename).stem\n",
    "    lines = readLines(filename)\n",
    "    raw_data[category] = lines    "
   ]
  },
  {
   "cell_type": "code",
   "execution_count": 7,
   "id": "b2dff99c-a41c-4736-a525-f00ab4c3b69a",
   "metadata": {},
   "outputs": [],
   "source": [
    "def convert_raw_data(raw_data):\n",
    "    data_x = []\n",
    "    data_y = []\n",
    "    mapping_value_country = {}\n",
    "    language_it = 0\n",
    "    for language, lines in raw_data.items():\n",
    "        if len(lines) > 1000:\n",
    "            lines = sample(lines,1000)\n",
    "        if len(lines)<300:\n",
    "            continue\n",
    "        name_tensor = [line_to_tensor(line) for line in lines]\n",
    "        data_x.append(name_tensor)\n",
    "        data_y.append([language_it]*len(name_tensor))\n",
    "        mapping_value_country[language_it] = language\n",
    "        language_it +=1\n",
    "    return np.concatenate(data_x), np.concatenate(data_y), mapping_value_country\n"
   ]
  },
  {
   "cell_type": "code",
   "execution_count": 8,
   "id": "57b2ed76-6087-4154-92a2-c40a75bd68e5",
   "metadata": {},
   "outputs": [],
   "source": [
    "def letter_to_index(letter):\n",
    "    return all_letters.find(letter)\n",
    "\n",
    "# Just for demonstration, turn a letter into a <1 x n_letters> Tensor\n",
    "def letter_to_tensor(letter):\n",
    "    tensor = np.zeros((1, n_letters),dtype=int)\n",
    "    tensor[0][letter_to_index(letter)] = 1\n",
    "    return tensor\n",
    "\n",
    "max_len = lambda x : max(map(len, x))\n",
    "max_line_size = 8# max([max_len(names) for names in raw_data.values()])\n",
    "\n",
    "# Turn a line into a <line_length x n_letters>,\n",
    "# or an array of one-hot letter vectors\n",
    "def line_to_tensor(line):\n",
    "    tensor = np.zeros((max_line_size, n_letters), dtype=int)\n",
    "    for letter_it, letter in enumerate(line):\n",
    "        if letter_it >= max_line_size:\n",
    "            break;\n",
    "        tensor[letter_it][letter_to_index(letter)] = 1\n",
    "    return tensor"
   ]
  },
  {
   "cell_type": "code",
   "execution_count": 9,
   "id": "566656aa-e120-46fe-a0cb-07b015bf3b8d",
   "metadata": {},
   "outputs": [],
   "source": [
    "x, y, mapping = convert_raw_data(raw_data)"
   ]
  },
  {
   "cell_type": "code",
   "execution_count": 10,
   "id": "e3b28554-d9e6-43b2-aa15-7ef85439b4f8",
   "metadata": {},
   "outputs": [],
   "source": [
    "def shuffle_in_union(a,b):\n",
    "\n",
    "    assert len(a)==len(b)\n",
    "    c = np.arange(len(a))\n",
    "    np.random.shuffle(c)\n",
    "\n",
    "    return a[c],b[c]"
   ]
  },
  {
   "cell_type": "code",
   "execution_count": 11,
   "id": "08a40352-6cf2-4f62-959c-819d7f79626c",
   "metadata": {},
   "outputs": [],
   "source": [
    "x, y =  shuffle_in_union(x,y)"
   ]
  },
  {
   "cell_type": "code",
   "execution_count": 12,
   "id": "423e7bf5-80c5-44f5-80d3-3d0ab56c3056",
   "metadata": {},
   "outputs": [
    {
     "data": {
      "text/plain": [
       "(5943, 8, 52)"
      ]
     },
     "execution_count": 12,
     "metadata": {},
     "output_type": "execute_result"
    }
   ],
   "source": [
    "x.shape"
   ]
  },
  {
   "cell_type": "code",
   "execution_count": 13,
   "id": "78e35336-a49f-4207-a5b5-9c44420a2867",
   "metadata": {},
   "outputs": [],
   "source": [
    "data_loader = nets.utils.DataLoader(x, y, batch_size=8)"
   ]
  },
  {
   "cell_type": "code",
   "execution_count": 14,
   "id": "b0cc48b6-31c3-4a3e-b815-427956e00ffb",
   "metadata": {},
   "outputs": [],
   "source": [
    "class TanhLayer(nets.Model):\n",
    "    def __init__(self):\n",
    "        self.activation = sg.Variable.tanh\n",
    "    def forward(self, x, *args, **kwargs):\n",
    "        if not isinstance(x, sg.Variable):\n",
    "            x = sg.Variable(x)\n",
    "        return self.activation(x)\n",
    "\n",
    "\n",
    "class NameRNN(nets.Model):\n",
    "    def __init__(self, input_size, hidden_size, output_size ):\n",
    "        self.hidden_size = hidden_size\n",
    "        self.rnn = nets.Layers.RNNCell(input_size, hidden_size, activation=TanhLayer())\n",
    "        self.output = nets.LinearLayer(hidden_size, output_size, name=\"output\")\n",
    "        \n",
    "        self.output.value = np.random.uniform(0, np.sqrt(2/(hidden_size+output_size)), size=(hidden_size, output_size))\n",
    "    def forward(self, x):\n",
    "        \"\"\"\n",
    "        This function implements RNN unroll and the idea of many-to-one NN. \n",
    "        TODO: enhance this description\n",
    "        \"\"\"\n",
    "        batch_size = x.shape()[0]\n",
    "        hidden = self.rnn.init_state(batch_size)\n",
    "        if debug:\n",
    "            print(f'hidden0 {hidden},\\n shape {hidden.shape()}')\n",
    "        x = self._time_first(x)\n",
    "        max_iteration =  x.shape()[0]\n",
    "        for word_it in range(max_iteration):\n",
    "            x_i = sg.Variable(x.value[word_it])\n",
    "            hidden = self.rnn(x_i, hidden)\n",
    "            if debug:\n",
    "                print(f'hidden {word_it+1}: {hidden}')\n",
    "\n",
    "        out = self.output(hidden)\n",
    "        del hidden\n",
    "        return out    \n",
    "    \n",
    "    def _time_first(self, x):\n",
    "        \"\"\"\n",
    "        This function changes order axis from [Batch,n_letters, n_chars] -> [n_letters, batch, n_chars]\n",
    "        This is use a small hack since sg.transpose does not support tuple params. Will be fixed soon. \n",
    "        \"\"\"\n",
    "        return sg.Variable(np.transpose(x.value,(1,0,2)))\n",
    "                \n",
    "\n",
    "        "
   ]
  },
  {
   "cell_type": "code",
   "execution_count": 73,
   "id": "83c3cd69-d02e-4993-852b-0f11c6e0ac04",
   "metadata": {},
   "outputs": [],
   "source": [
    "## hoooray network can process the input tensor :D "
   ]
  },
  {
   "cell_type": "code",
   "execution_count": 74,
   "id": "31e905d8-e14c-487a-8bed-23e25748772a",
   "metadata": {},
   "outputs": [],
   "source": [
    "# try to train it :"
   ]
  },
  {
   "cell_type": "code",
   "execution_count": 15,
   "id": "02cf025a-4a1a-4c0a-ac30-67798a8ce880",
   "metadata": {},
   "outputs": [],
   "source": [
    "def train_model(model, criterion, optimizer, run_hist, data_loader, num_epochs=100):\n",
    "    for epoch in range(num_epochs):\n",
    "        for iteration, batch in enumerate(data_loader):\n",
    "            inputs, labels = batch\n",
    "            outputs = model(inputs)\n",
    "            loss = criterion(outputs,  labels-1)\n",
    "            optimizer.zero_grad()\n",
    "            loss.backward()\n",
    "            optimizer.update_model()\n",
    "\n",
    "            run_hist[\"loss\"].append(loss.value)\n",
    "            if iteration % 100 == 0:\n",
    "                print(f'labels {np.unique(labels.value)}')\n",
    "                print(\"epoch {}/{},  it  {}/{}, loss {} \".format(epoch, num_epochs,\n",
    "                                                             iteration, len(data_loader),\n",
    "                                                             loss.value))\n",
    "        #gc.collect()\n"
   ]
  },
  {
   "cell_type": "code",
   "execution_count": 16,
   "id": "2f3ea9b7-7fb8-4736-9060-5eecc4096bed",
   "metadata": {},
   "outputs": [
    {
     "data": {
      "text/plain": [
       "{0: 'Arabic',\n",
       " 1: 'Czech',\n",
       " 2: 'English',\n",
       " 3: 'German',\n",
       " 4: 'Italian',\n",
       " 5: 'Japanese',\n",
       " 6: 'Russian'}"
      ]
     },
     "execution_count": 16,
     "metadata": {},
     "output_type": "execute_result"
    }
   ],
   "source": [
    "mapping"
   ]
  },
  {
   "cell_type": "code",
   "execution_count": 17,
   "id": "f905d458-07e4-4104-b0ed-fd5fd83491eb",
   "metadata": {},
   "outputs": [
    {
     "name": "stdout",
     "output_type": "stream",
     "text": [
      "labels [0 2 5 6]\n",
      "epoch 0/5,  it  0/742, loss 42.89552395161765 \n",
      "labels [1 2 5 6]\n",
      "epoch 0/5,  it  100/742, loss 17.428147061928296 \n",
      "labels [0 1 2 5 6]\n",
      "epoch 0/5,  it  200/742, loss 21.67100254765468 \n",
      "labels [0 1 2 3 4 5 6]\n",
      "epoch 0/5,  it  300/742, loss 20.754441820505885 \n",
      "labels [0 2 4 5 6]\n",
      "epoch 0/5,  it  400/742, loss 17.35892586362293 \n",
      "labels [1 5 6]\n",
      "epoch 0/5,  it  500/742, loss 19.702409994637154 \n",
      "labels [4 5 6]\n",
      "epoch 0/5,  it  600/742, loss 17.908621021434314 \n",
      "labels [0 1 2 3 5 6]\n",
      "epoch 0/5,  it  700/742, loss 21.161003414770786 \n",
      "stop\n",
      "labels [1 2 3 5 6]\n",
      "epoch 1/5,  it  0/742, loss 19.37809417349588 \n",
      "labels [1 2 3 5 6]\n",
      "epoch 1/5,  it  100/742, loss 17.656177140387246 \n",
      "labels [2 3 4 5]\n",
      "epoch 1/5,  it  200/742, loss 23.769968588665954 \n",
      "labels [1 2 3 5 6]\n",
      "epoch 1/5,  it  300/742, loss 18.984926759940663 \n",
      "labels [0 1 2 3 6]\n",
      "epoch 1/5,  it  400/742, loss 19.050762929453875 \n",
      "labels [0 2 4 5]\n",
      "epoch 1/5,  it  500/742, loss 20.320139132533598 \n",
      "labels [2 3 4 5]\n",
      "epoch 1/5,  it  600/742, loss 17.786804091347584 \n",
      "labels [0 1 2 3 5 6]\n",
      "epoch 1/5,  it  700/742, loss 19.15192170179011 \n",
      "stop\n",
      "labels [0 2 3 5 6]\n",
      "epoch 2/5,  it  0/742, loss 17.571654267159424 \n",
      "labels [0 3 4 6]\n",
      "epoch 2/5,  it  100/742, loss 15.9992161637897 \n",
      "labels [0 1 2 3 4 5 6]\n",
      "epoch 2/5,  it  200/742, loss 15.533829622165543 \n",
      "labels [0 1 3 4 5 6]\n",
      "epoch 2/5,  it  300/742, loss 18.19937975933888 \n",
      "labels [0 2 4 5 6]\n",
      "epoch 2/5,  it  400/742, loss 16.59530785621923 \n",
      "labels [1 2 5 6]\n",
      "epoch 2/5,  it  500/742, loss 21.406391897432705 \n",
      "labels [0 1 2 3 4 5]\n",
      "epoch 2/5,  it  600/742, loss 20.086576298955965 \n",
      "labels [1 2 3 4 6]\n",
      "epoch 2/5,  it  700/742, loss 22.781317394584523 \n",
      "stop\n",
      "labels [2 3 4 5 6]\n",
      "epoch 3/5,  it  0/742, loss 18.08534163709085 \n",
      "labels [0 2 3 5]\n",
      "epoch 3/5,  it  100/742, loss 11.221453652276109 \n",
      "labels [0 2 3 6]\n",
      "epoch 3/5,  it  200/742, loss 17.18544906333416 \n",
      "labels [0 2 3 4 5 6]\n",
      "epoch 3/5,  it  300/742, loss 15.630128623253825 \n",
      "labels [0 1 2 5 6]\n",
      "epoch 3/5,  it  400/742, loss 17.110512003829335 \n",
      "labels [0 2 3 5 6]\n",
      "epoch 3/5,  it  500/742, loss 19.41428901509212 \n",
      "labels [1 4 5 6]\n",
      "epoch 3/5,  it  600/742, loss 15.603567019790027 \n",
      "labels [3 4 5 6]\n",
      "epoch 3/5,  it  700/742, loss 18.015104423507303 \n",
      "stop\n",
      "labels [0 2 3 5 6]\n",
      "epoch 4/5,  it  0/742, loss 11.979605560585709 \n",
      "labels [0 2 3 5 6]\n",
      "epoch 4/5,  it  100/742, loss 12.398112448965136 \n",
      "labels [0 1 3 5 6]\n",
      "epoch 4/5,  it  200/742, loss 15.045170779624433 \n",
      "labels [0 3 4 5 6]\n",
      "epoch 4/5,  it  300/742, loss 13.494285451836287 \n",
      "labels [0 1 2 3 5]\n",
      "epoch 4/5,  it  400/742, loss 20.637590069184157 \n",
      "labels [0 1 2 3 4 6]\n",
      "epoch 4/5,  it  500/742, loss 16.752019138233585 \n",
      "labels [0 1 2 3 5 6]\n",
      "epoch 4/5,  it  600/742, loss 9.152324647677581 \n",
      "labels [0 1 2 3 5 6]\n",
      "epoch 4/5,  it  700/742, loss 19.959949494055007 \n",
      "stop\n"
     ]
    }
   ],
   "source": [
    "debug = False\n",
    "name_model = NameRNN(n_letters, 32, np.max(y))\n",
    "optim = nets.Adam(name_model,1e-3)\n",
    "criterion = nets.CrossEntropyWithLogitsLoss( np.max(y))\n",
    "run_hist = {\"loss\": []}\n",
    "train_model(name_model, criterion, optim, run_hist, data_loader, num_epochs=5)"
   ]
  },
  {
   "cell_type": "code",
   "execution_count": null,
   "id": "5d13c143-3510-49ae-b44e-68e3c66f8567",
   "metadata": {},
   "outputs": [],
   "source": [
    "gc.collect()"
   ]
  },
  {
   "cell_type": "code",
   "execution_count": 31,
   "id": "03ee5e85-2879-438b-b856-d6d89f102957",
   "metadata": {},
   "outputs": [
    {
     "data": {
      "image/png": "[encoded data removed]",
      "text/plain": [
       "<Figure size 432x288 with 1 Axes>"
      ]
     },
     "metadata": {
      "needs_background": "light"
     },
     "output_type": "display_data"
    }
   ],
   "source": [
    "plt.plot(run_hist[\"loss\"]);"
   ]
  },
  {
   "cell_type": "code",
   "execution_count": 32,
   "id": "699b44b8-283a-4501-9da7-990cdedbd098",
   "metadata": {},
   "outputs": [],
   "source": [
    "def make_prediction(name, model=name_model):\n",
    "    def single_input_to_tensor(line):\n",
    "        tensor = np.zeros((1,max_line_size, n_letters), dtype=int)\n",
    "        for letter_it, letter in enumerate(line):\n",
    "            if letter_it >= max_line_size:\n",
    "                break;\n",
    "\n",
    "            tensor[0][letter_it][letter_to_index(letter)] = 1\n",
    "\n",
    "        return sg.Variable(tensor)\n",
    "    def softmaxv2(x):\n",
    "        \"\"\"Compute softmax values for each sets of scores in x.\"\"\"\n",
    "\n",
    "        e_x = np.exp(x - np.max(x))\n",
    "        return e_x / e_x.sum()\n",
    "\n",
    "    model_input = single_input_to_tensor(name)\n",
    "    \n",
    "    out = model(model_input)\n",
    "    #print(out)\n",
    "    probas =  softmaxv2(out.value)\n",
    "    \n",
    "    return mapping[np.argmax(probas)+1],np.max(probas)\n"
   ]
  },
  {
   "cell_type": "code",
   "execution_count": 33,
   "id": "4ab9f586-47e4-49a2-b1d2-d7fd65228808",
   "metadata": {},
   "outputs": [],
   "source": [
    "debug=False"
   ]
  },
  {
   "cell_type": "code",
   "execution_count": 34,
   "id": "aa65f462-a8f0-4f62-9b7e-ec60c3931695",
   "metadata": {},
   "outputs": [
    {
     "data": {
      "text/plain": [
       "('Italian', 0.44169513442791564)"
      ]
     },
     "execution_count": 34,
     "metadata": {},
     "output_type": "execute_result"
    }
   ],
   "source": [
    "make_prediction(\"Aqua\")"
   ]
  },
  {
   "cell_type": "code",
   "execution_count": null,
   "id": "90e78d0c-0d75-4b4a-bd63-4b1635fb2716",
   "metadata": {},
   "outputs": [],
   "source": []
  }
 ],
 "metadata": {
  "kernelspec": {
   "display_name": "Python 3",
   "language": "python",
   "name": "python3"
  },
  "language_info": {
   "codemirror_mode": {
    "name": "ipython",
    "version": 3
   },
   "file_extension": ".py",
   "mimetype": "text/x-python",
   "name": "python",
   "nbconvert_exporter": "python",
   "pygments_lexer": "ipython3",
   "version": "3.9.7"
  }
 },
 "nbformat": 4,
 "nbformat_minor": 5
}
